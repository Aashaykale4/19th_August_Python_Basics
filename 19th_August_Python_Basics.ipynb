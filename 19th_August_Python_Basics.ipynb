{
 "cells": [
  {
   "cell_type": "code",
   "execution_count": 3,
   "metadata": {},
   "outputs": [
    {
     "name": "stdout",
     "output_type": "stream",
     "text": [
      "20 10\n"
     ]
    }
   ],
   "source": [
    "#TOPIC: Python Basics Variable\n",
    "# 1. Declare two variables, `x` and `y`, and assign them integer values. Swap the\n",
    "# values of these variables without using any temporary variable.\n",
    "\n",
    "x=10      # variable x is initialized as int 10\n",
    "y=20      # variable y is initialized as int 20\n",
    "x,y=y,x   # here the x and y are intialized at the same time with y and x excluding the temporary variable which results in swapping of values\n",
    "print(x,y)# this prints the final swapped int values of x and y "
   ]
  },
  {
   "cell_type": "code",
   "execution_count": 7,
   "metadata": {},
   "outputs": [
    {
     "name": "stdout",
     "output_type": "stream",
     "text": [
      "Area of rectangle: 200\n"
     ]
    }
   ],
   "source": [
    "# 2. Create a program that calculates the area of a rectangle. Take the length and\n",
    "# width as inputs from the user and store them in variables. Calculate and\n",
    "# display the area.\n",
    "a=int(input(\"enter the length:\")) # variable a takes the integer userinput as length\n",
    "b=int(input(\"enter the breadth:\")) # variable b takes the integer userinput as breadth\n",
    "c=a*b                              # area of rectangle is calculated by applying formula (length * breadth)\n",
    "print(\"Area of rectangle:\",c)      # area is displayed"
   ]
  },
  {
   "cell_type": "code",
   "execution_count": 8,
   "metadata": {},
   "outputs": [
    {
     "name": "stdout",
     "output_type": "stream",
     "text": [
      "temperature in fahrenheit: 86.0\n"
     ]
    }
   ],
   "source": [
    "# 3. Write a Python program that converts temperatures from Celsius to\n",
    "# Fahrenheit. Take the temperature in Celsius as input, store it in a variable,\n",
    "# convert it to Fahrenheit, and display the result.\n",
    "a=float(input(\"enter temperature in celcious:\"))  # user input in float\n",
    "b=(a*1.8)+32                                      # calcuation of temperature in fahrenheit\n",
    "print(\"temperature in fahrenheit:\",b)             #display of temperature "
   ]
  },
  {
   "cell_type": "code",
   "execution_count": 9,
   "metadata": {},
   "outputs": [
    {
     "name": "stdout",
     "output_type": "stream",
     "text": [
      "length of string: 6\n"
     ]
    }
   ],
   "source": [
    "#TOPIC: String Based Questions\n",
    "# 1. Write a Python program that takes a string as input and prints the length of\n",
    "# the string.\n",
    "a=\"string\"                         # str type string is assigned to variable a\n",
    "print(\"length of string:\",len(a))  #len() function is used to measure the length of string and displayed"
   ]
  },
  {
   "cell_type": "code",
   "execution_count": 8,
   "metadata": {},
   "outputs": [
    {
     "name": "stdout",
     "output_type": "stream",
     "text": [
      "number of vowels in string: 16\n"
     ]
    }
   ],
   "source": [
    "# 2. Create a program that takes a sentence from the user and counts the number\n",
    "# of vowels (a, e, i, o, u) in the string.\n",
    "s=input(\"enter string\")  #asking user input\n",
    "v1=s.count('a')          # counting vowels\n",
    "v2=s.count('e')\n",
    "v3=s.count('i')\n",
    "v4=s.count('o')\n",
    "v5=s.count('u')\n",
    "print(\"number of vowels in string:\",v1+v2+v3+v4+v5)   # displayinng the sum of counts of vowels\n"
   ]
  },
  {
   "cell_type": "code",
   "execution_count": 2,
   "metadata": {},
   "outputs": [
    {
     "name": "stdout",
     "output_type": "stream",
     "text": [
      "yahsaa\n"
     ]
    }
   ],
   "source": [
    "# 3. Given a string, reverse the order of characters using string slicing and print\n",
    "# the reversed string.\n",
    "a=input(\"enter string:\") # asking user input\n",
    "a1=a[::-1]               # slicing used for reversing string\n",
    "print(a1)                # displaying reversed string"
   ]
  },
  {
   "cell_type": "code",
   "execution_count": 4,
   "metadata": {},
   "outputs": [
    {
     "name": "stdout",
     "output_type": "stream",
     "text": [
      "Is the input string plindrome: False\n"
     ]
    }
   ],
   "source": [
    "# 4. Write a program that takes a string as input and checks if it is a palindrome\n",
    "# (reads the same forwards and backwards)\n",
    "b1=input(\"enter string:\")  # asking user input\n",
    "b2=b1[::-1]                # asigning revrsed string to b2\n",
    "c=(b1==b2)                 # checking condition for a string to be pailandrome\n",
    "print(\"Is the input string plindrome:\",c)   # displaying result"
   ]
  },
  {
   "cell_type": "code",
   "execution_count": 5,
   "metadata": {},
   "outputs": [
    {
     "name": "stdout",
     "output_type": "stream",
     "text": [
      "mynameisaashay\n"
     ]
    }
   ],
   "source": [
    "# 5. Create a program that takes a string as input and removes all the spaces from\n",
    "# it. Print the modified string without spaces.\n",
    "c1=input(\"enter string\")   # asking user input\n",
    "c2=c1.replace(\" \",\"\")      # removing whitespace from string\n",
    "print(c2)                  # displaying resulting string"
   ]
  },
  {
   "cell_type": "code",
   "execution_count": null,
   "metadata": {},
   "outputs": [],
   "source": []
  }
 ],
 "metadata": {
  "kernelspec": {
   "display_name": "Python 3",
   "language": "python",
   "name": "python3"
  },
  "language_info": {
   "codemirror_mode": {
    "name": "ipython",
    "version": 3
   },
   "file_extension": ".py",
   "mimetype": "text/x-python",
   "name": "python",
   "nbconvert_exporter": "python",
   "pygments_lexer": "ipython3",
   "version": "3.10.7"
  },
  "orig_nbformat": 4
 },
 "nbformat": 4,
 "nbformat_minor": 2
}
